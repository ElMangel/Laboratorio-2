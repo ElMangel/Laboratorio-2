{
 "cells": [
  {
   "cell_type": "markdown",
   "id": "0841182a-c07b-465e-a5be-7f0698aecbf5",
   "metadata": {},
   "source": [
    "Angel Josué Mazariegos 19000522 - Ciencia de datos en python - Seccion V\n",
    "\n",
    "# Laboratorio #2 - Sintaxis y Estructura de Datos"
   ]
  },
  {
   "cell_type": "markdown",
   "id": "3d4f2cf1-f44c-419c-b3a6-a76bff7eedf3",
   "metadata": {},
   "source": [
    "## Parte #1 - (Programacion y Sintaxis):\n",
    "**1. Haga un programa en Python que reciba de parametro un numero de segundos y que despliegue en pantalla, las horas, minutos y segundos que representan.**"
   ]
  },
  {
   "cell_type": "code",
   "execution_count": 41,
   "id": "3b1ae1d8-ed43-4756-a205-1166e65fa8ad",
   "metadata": {
    "tags": []
   },
   "outputs": [],
   "source": [
    "def conversion(x):\n",
    "    horas = x // 3600\n",
    "    minutos = (x % 3600) // 60\n",
    "    segundos = (x % 3600) % 60\n",
    "    return horas, minutos, segundos\n",
    "\n",
    "def Test1():\n",
    "    while True:\n",
    "        try:\n",
    "            segundos = int(input(\"Ingrese el número de segundos: \"))\n",
    "            if segundos < 0:\n",
    "                print(\"El valor tiene que se mayor a 0\")\n",
    "                continue\n",
    "            horas, minutos, segundos = conversion(segundos)\n",
    "            print(\"Horas:\", horas)\n",
    "            print(\"Minutos:\", minutos)\n",
    "            print(\"Segundos:\", segundos)\n",
    "            break\n",
    "        except ValueError:\n",
    "            print(\"Tiene que ser número entero.\")"
   ]
  },
  {
   "cell_type": "code",
   "execution_count": 42,
   "id": "16d05777-24c1-4a0c-be58-b926842523a1",
   "metadata": {
    "tags": []
   },
   "outputs": [
    {
     "name": "stdin",
     "output_type": "stream",
     "text": [
      "Ingrese el número de segundos:  -50\n"
     ]
    },
    {
     "name": "stdout",
     "output_type": "stream",
     "text": [
      "El valor tiene que se mayor a 0\n"
     ]
    },
    {
     "name": "stdin",
     "output_type": "stream",
     "text": [
      "Ingrese el número de segundos:  5523.66\n"
     ]
    },
    {
     "name": "stdout",
     "output_type": "stream",
     "text": [
      "Tiene que ser número entero.\n"
     ]
    },
    {
     "name": "stdin",
     "output_type": "stream",
     "text": [
      "Ingrese el número de segundos:  753669\n"
     ]
    },
    {
     "name": "stdout",
     "output_type": "stream",
     "text": [
      "Horas: 209\n",
      "Minutos: 21\n",
      "Segundos: 9\n"
     ]
    }
   ],
   "source": [
    "Test1()"
   ]
  },
  {
   "cell_type": "markdown",
   "id": "dceee94b-46da-430f-b4a8-f11eb6c24c37",
   "metadata": {},
   "source": [
    "**2. Haga una funcion en Python que dado un numero entre 1 y 20. Y un caracter cualquiera despliegue cuatro patrones triangulares.**"
   ]
  },
  {
   "cell_type": "code",
   "execution_count": 43,
   "id": "ae03bd43-f9cc-41b8-820b-a015ae20d659",
   "metadata": {
    "tags": []
   },
   "outputs": [],
   "source": [
    "def imprimir_patrones(numero, caracter):\n",
    "    for i in range(1, numero + 1):\n",
    "        print((caracter * i))\n",
    "        \n",
    "    for i in range(numero, 0, -1):\n",
    "        print(caracter * i)\n",
    "\n",
    "    for i in range(numero):\n",
    "        print(\" \" * i + caracter * (numero - i))\n",
    "\n",
    "    for i in range(numero):\n",
    "        print(\" \" * (numero - i - 1) + caracter * (i + 1))\n",
    "\n",
    "def Test2():\n",
    "    num = int(input(\"Ingrese un número entre 1 y 20: \"))\n",
    "    if num < 1 or num > 20:\n",
    "        print(\"El número debe estar entre 1 y 20.\")\n",
    "        return\n",
    "\n",
    "    caracter = input(\"Ingrese un carácter: \")\n",
    "    if len(caracter) != 1:\n",
    "        print(\"Por favor ingrese solo un carácter.\")\n",
    "        return\n",
    "\n",
    "    imprimir_patrones(num, caracter)"
   ]
  },
  {
   "cell_type": "code",
   "execution_count": 44,
   "id": "70bdb3e7-7542-4442-81d6-4ff8a30407f2",
   "metadata": {
    "tags": []
   },
   "outputs": [
    {
     "name": "stdin",
     "output_type": "stream",
     "text": [
      "Ingrese un número entre 1 y 20:  5\n",
      "Ingrese un carácter:  *\n"
     ]
    },
    {
     "name": "stdout",
     "output_type": "stream",
     "text": [
      "*\n",
      "**\n",
      "***\n",
      "****\n",
      "*****\n",
      "*****\n",
      "****\n",
      "***\n",
      "**\n",
      "*\n",
      "*****\n",
      " ****\n",
      "  ***\n",
      "   **\n",
      "    *\n",
      "    *\n",
      "   **\n",
      "  ***\n",
      " ****\n",
      "*****\n"
     ]
    }
   ],
   "source": [
    "Test2()"
   ]
  },
  {
   "cell_type": "markdown",
   "id": "8d8de6d9-6854-4e3f-bb42-8e5b4788a209",
   "metadata": {},
   "source": [
    "**3. Haga un programa en Python que la fecha de nacimiento de una persona (puede ingresar por separado cada valor, es decir pedir primero d´ıa, luego mes y luego anño), despliegue la edad de la persona en años, meses y d´ıas. Su resultado puede ser aproximado.**"
   ]
  },
  {
   "cell_type": "code",
   "execution_count": 51,
   "id": "30902d5a-565b-4999-83d8-4ab8267879c8",
   "metadata": {
    "tags": []
   },
   "outputs": [],
   "source": [
    "from datetime import datetime\n",
    "\n",
    "def calcular_edad(dia_naci, mes_naci, año_naci):\n",
    "    referencia = datetime(2024, 3, 3)\n",
    "    fecha_nacimiento = datetime(año_naci, mes_naci, dia_naci)\n",
    "\n",
    "    diferencia = referencia - fecha_nacimiento\n",
    "\n",
    "    total_dias = diferencia.days\n",
    "    edad_años = total_dias // 365\n",
    "    meses = (total_dias % 365) // 30\n",
    "    dias = (total_dias % 365) % 30\n",
    "\n",
    "    return edad_años, meses, dias\n",
    "\n",
    "def Test3():\n",
    "    dia_nac = int(input(\"Ingrese el día de nacimiento (1-31): \"))\n",
    "    mes_nac = int(input(\"Ingrese el mes de nacimiento (1-12): \"))\n",
    "    año_nac = int(input(\"Ingrese el año de nacimiento: \"))\n",
    "\n",
    "    edad, meses, dias = calcular_edad(dia_nac, mes_nac, año_nac)\n",
    "\n",
    "    print(\"Edad aproximada:\")\n",
    "    print(\"Años:\", edad)\n",
    "    print(\"Meses:\", meses)\n",
    "    print(\"Días:\", dias)"
   ]
  },
  {
   "cell_type": "code",
   "execution_count": 52,
   "id": "939cf30b-55cd-4cf8-9e3f-49bfa8776adf",
   "metadata": {
    "tags": []
   },
   "outputs": [
    {
     "name": "stdin",
     "output_type": "stream",
     "text": [
      "Ingrese el día de nacimiento (1-31):  17\n",
      "Ingrese el mes de nacimiento (1-12):  11\n",
      "Ingrese el año de nacimiento:  2000\n"
     ]
    },
    {
     "name": "stdout",
     "output_type": "stream",
     "text": [
      "Edad aproximada:\n",
      "Años: 23\n",
      "Meses: 3\n",
      "Días: 22\n"
     ]
    }
   ],
   "source": [
    "Test3()"
   ]
  },
  {
   "cell_type": "markdown",
   "id": "c786f1c4-a7f3-48ec-a5e7-850c11ea9d8e",
   "metadata": {},
   "source": [
    "**4. Escriba una funcion en Python que dada una tupla de elementos (numeros o letras) esta se convierta a un string**"
   ]
  },
  {
   "cell_type": "code",
   "execution_count": 55,
   "id": "5e66a36a-694a-482b-8783-acb9a1969b10",
   "metadata": {
    "tags": []
   },
   "outputs": [],
   "source": [
    "def Test4(tupla):\n",
    "    return ''.join(map(str, tupla))"
   ]
  },
  {
   "cell_type": "code",
   "execution_count": 56,
   "id": "0aafa766-d866-4a14-af92-fdc7ad130c0d",
   "metadata": {
    "tags": []
   },
   "outputs": [
    {
     "data": {
      "text/plain": [
       "'10203040'"
      ]
     },
     "execution_count": 56,
     "metadata": {},
     "output_type": "execute_result"
    }
   ],
   "source": [
    "Test4((10,20,30,40))"
   ]
  },
  {
   "cell_type": "markdown",
   "id": "ec74d695-039f-4ab0-9ac2-f8d37b3cab1f",
   "metadata": {},
   "source": [
    "**5. Cree un programa en Python que dada una lista de tuplas, elimine las tuplas que est´an vac´ıas.**"
   ]
  },
  {
   "cell_type": "code",
   "execution_count": 61,
   "id": "48f3ea5e-db5e-47d9-a6d0-bffabe2c004d",
   "metadata": {
    "tags": []
   },
   "outputs": [],
   "source": [
    "def Test5(lista_tuplas):\n",
    "    tuplas_no_vacias = []\n",
    "    \n",
    "    for tupla in lista_tuplas:\n",
    "        if tupla:\n",
    "            tuplas_no_vacias.append(tupla)\n",
    "            \n",
    "    print(\"El resultado es:\", tuplas_no_vacias)\n"
   ]
  },
  {
   "cell_type": "code",
   "execution_count": 62,
   "id": "c78d5328-7cb7-4ac1-992d-7d30b36afda7",
   "metadata": {
    "tags": []
   },
   "outputs": [
    {
     "name": "stdout",
     "output_type": "stream",
     "text": [
      "El resultado es: [('X',), ('a', 'b'), ('a', 'b', 'c'), 'd']\n"
     ]
    }
   ],
   "source": [
    "Test5([(), (), ('X',), ('a', 'b'), ('a', 'b', 'c'), ('d')])"
   ]
  },
  {
   "cell_type": "markdown",
   "id": "d04312b4-5a81-4422-9e90-539e3d065f22",
   "metadata": {},
   "source": [
    "**6. Cree una funcin en Python que dada una tupla de tuplas con números, produzca una tupla con el promedio de cada tupla individual, debe usar comprehensions para desarrollar este ejercicio.**"
   ]
  },
  {
   "cell_type": "code",
   "execution_count": 63,
   "id": "4af5409c-4d0c-4bb2-959e-de0c7d95d8a7",
   "metadata": {
    "tags": []
   },
   "outputs": [],
   "source": [
    "def Test6(tupla_de_tuplas):\n",
    "    promedios = tuple(sum(tupla) / len(tupla) for tupla in tupla_de_tuplas)\n",
    "    print(\"El resultado es:\", promedios)\n"
   ]
  },
  {
   "cell_type": "code",
   "execution_count": 64,
   "id": "2dd76ae1-53e9-4fe5-a687-d906a759905e",
   "metadata": {
    "tags": []
   },
   "outputs": [
    {
     "name": "stdout",
     "output_type": "stream",
     "text": [
      "El resultado es: (10.5, 44.0, 58.0)\n"
     ]
    }
   ],
   "source": [
    "Test6(((10, 10, 10, 12), (30, 45, 56, 45), (81, 80, 39, 32)))"
   ]
  },
  {
   "cell_type": "code",
   "execution_count": 65,
   "id": "003abf77-7ab3-482f-9967-e3e9b5d460f4",
   "metadata": {
    "tags": []
   },
   "outputs": [
    {
     "name": "stdout",
     "output_type": "stream",
     "text": [
      "Initialized empty Git repository in C:/Users/Alienware M15/Universidad/Laboratorio2/.git/\n"
     ]
    }
   ],
   "source": [
    "!git init"
   ]
  },
  {
   "cell_type": "code",
   "execution_count": 68,
   "id": "d6566767-5efc-4927-bf04-b9092b8c21d7",
   "metadata": {
    "tags": []
   },
   "outputs": [
    {
     "name": "stderr",
     "output_type": "stream",
     "text": [
      "error: remote origin already exists.\n"
     ]
    }
   ],
   "source": [
    "!git remote add origin https://github.com/ElMangel/Laboratorio-2.git"
   ]
  },
  {
   "cell_type": "code",
   "execution_count": 69,
   "id": "07e6e8f2-dcea-4964-a3cd-ad2ee49de914",
   "metadata": {
    "tags": []
   },
   "outputs": [
    {
     "name": "stdout",
     "output_type": "stream",
     "text": [
      "On branch master\n",
      "\n",
      "No commits yet\n",
      "\n",
      "Untracked files:\n",
      "  (use \"git add <file>...\" to include in what will be committed)\n",
      "\t.ipynb_checkpoints/\n",
      "\tLab2.ipynb\n",
      "\n",
      "nothing added to commit but untracked files present (use \"git add\" to track)\n"
     ]
    }
   ],
   "source": [
    "!git status"
   ]
  },
  {
   "cell_type": "code",
   "execution_count": 70,
   "id": "c5511ced-8d1d-4ddc-821a-e8a9295d4c07",
   "metadata": {
    "tags": []
   },
   "outputs": [
    {
     "name": "stderr",
     "output_type": "stream",
     "text": [
      "warning: in the working copy of 'Lab2.ipynb', LF will be replaced by CRLF the next time Git touches it\n"
     ]
    },
    {
     "name": "stdout",
     "output_type": "stream",
     "text": [
      "[master (root-commit) 84b9af8] Este es el laboratorio 2 de Sintaxis y estructura de datos\n",
      " 1 file changed, 512 insertions(+)\n",
      " create mode 100644 Lab2.ipynb\n",
      "branch 'master' set up to track 'origin/master'.\n"
     ]
    },
    {
     "name": "stderr",
     "output_type": "stream",
     "text": [
      "To https://github.com/ElMangel/Laboratorio-2.git\n",
      " * [new branch]      master -> master\n"
     ]
    }
   ],
   "source": [
    "!git add Lab2.ipynb\n",
    "!git commit -m \"Este es el laboratorio 2 de Sintaxis y estructura de datos\"\n",
    "!git push --set-upstream origin master"
   ]
  },
  {
   "cell_type": "code",
   "execution_count": 88,
   "id": "ab3ecad0-ae28-4940-89c5-42780828861f",
   "metadata": {
    "tags": []
   },
   "outputs": [],
   "source": [
    "def Test7():\n",
    "    facturas = {}\n",
    "    estado = True\n",
    "    monto_total = 0\n",
    "    \n",
    "    while estado:\n",
    "        opcion = input(\"¿Qué necesita? (añadir,pagar o terminar): \").lower()\n",
    "\n",
    "        if opcion == \"añadir\":\n",
    "            num_factura = input(\"Ingrese el número de factura (4 dígitos): \")\n",
    "            coste_factura = float(input(\"Ingrese el coste de factura: \"))\n",
    "            \n",
    "            monto_total = coste_factura + monto_total\n",
    "            facturas[num_factura] = coste_factura\n",
    "            \n",
    "            print(\"Factura añadida.\")\n",
    "            print(\"Facturas pendientes:\", facturas)\n",
    "            print(\"Cantidad cobrada:\", monto_total)\n",
    "            print(\"Cobro pendiente:\", sum(facturas.values()))\n",
    "\n",
    "        \n",
    "        elif opcion == \"pagar\":\n",
    "            num_factura = input(\"Ingrese el número de factura a pagar: \")\n",
    "            \n",
    "            if num_factura in facturas:\n",
    "                monto_pagado = facturas.pop(num_factura)\n",
    "                print(\"Se ha pagado la factura\", num_factura, \"por un monto de\", monto_pagado)\n",
    "            \n",
    "            else:\n",
    "                print(\"La factura no existe.\")\n",
    "            print(\"Cantidad cobrada:\", monto_total)\n",
    "            print(\"Cobro pendiente:\", sum(facturas.values()))\n",
    "\n",
    "        \n",
    "        elif opcion == \"terminar\":\n",
    "            estado = False\n",
    "\n",
    "        else:\n",
    "            print(\"Opción inválida.\")\n",
    "\n",
    "    print(\"Listo, ya puede dormir tranquilo :).\")"
   ]
  },
  {
   "cell_type": "code",
   "execution_count": 89,
   "id": "211a1e2b-283e-438b-a0a9-8751c2d03557",
   "metadata": {
    "tags": []
   },
   "outputs": [
    {
     "name": "stdin",
     "output_type": "stream",
     "text": [
      "¿Qué necesita? (añadir,pagar o terminar):  añadir\n",
      "Ingrese el número de factura (4 dígitos):  5555\n",
      "Ingrese el coste de factura:  123\n"
     ]
    },
    {
     "name": "stdout",
     "output_type": "stream",
     "text": [
      "Factura añadida.\n",
      "Facturas pendientes: {'5555': 123.0}\n",
      "Cantidad cobrada: 123.0\n",
      "Cobro pendiente: 123.0\n"
     ]
    },
    {
     "name": "stdin",
     "output_type": "stream",
     "text": [
      "¿Qué necesita? (añadir,pagar o terminar):  añadir\n",
      "Ingrese el número de factura (4 dígitos):  6666\n",
      "Ingrese el coste de factura:  234\n"
     ]
    },
    {
     "name": "stdout",
     "output_type": "stream",
     "text": [
      "Factura añadida.\n",
      "Facturas pendientes: {'5555': 123.0, '6666': 234.0}\n",
      "Cantidad cobrada: 357.0\n",
      "Cobro pendiente: 357.0\n"
     ]
    },
    {
     "name": "stdin",
     "output_type": "stream",
     "text": [
      "¿Qué necesita? (añadir,pagar o terminar):  pagar\n",
      "Ingrese el número de factura a pagar:  5555\n"
     ]
    },
    {
     "name": "stdout",
     "output_type": "stream",
     "text": [
      "Se ha pagado la factura 5555 por un monto de 123.0\n",
      "Cantidad cobrada: 357.0\n",
      "Cobro pendiente: 234.0\n"
     ]
    },
    {
     "name": "stdin",
     "output_type": "stream",
     "text": [
      "¿Qué necesita? (añadir,pagar o terminar):  terminar\n"
     ]
    },
    {
     "name": "stdout",
     "output_type": "stream",
     "text": [
      "Listo, ya puede dormir tranquilo :).\n"
     ]
    }
   ],
   "source": [
    "Test7()"
   ]
  },
  {
   "cell_type": "code",
   "execution_count": 90,
   "id": "049fbca4-df9e-4eb5-9813-3700859935f6",
   "metadata": {
    "tags": []
   },
   "outputs": [
    {
     "name": "stdout",
     "output_type": "stream",
     "text": [
      "branch 'master' set up to track 'origin/master'.\n"
     ]
    },
    {
     "name": "stderr",
     "output_type": "stream",
     "text": [
      "Everything up-to-date\n"
     ]
    }
   ],
   "source": [
    "!git add Lab2.ipynb\n",
    "!git commit -m \"Mensaje descriptivo de los cambios realizados\"\n",
    "!git push origin nombre_de_la_rama\n"
   ]
  },
  {
   "cell_type": "code",
   "execution_count": null,
   "id": "fc3c0cb1-498f-4dae-b9bc-e20b66898685",
   "metadata": {},
   "outputs": [],
   "source": []
  }
 ],
 "metadata": {
  "kernelspec": {
   "display_name": "Python 3 (ipykernel)",
   "language": "python",
   "name": "python3"
  },
  "language_info": {
   "codemirror_mode": {
    "name": "ipython",
    "version": 3
   },
   "file_extension": ".py",
   "mimetype": "text/x-python",
   "name": "python",
   "nbconvert_exporter": "python",
   "pygments_lexer": "ipython3",
   "version": "3.11.5"
  }
 },
 "nbformat": 4,
 "nbformat_minor": 5
}
